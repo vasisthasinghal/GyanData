{
 "cells": [
  {
   "cell_type": "markdown",
   "metadata": {},
   "source": [
    "# Scraping the espncricinfo website using selenium"
   ]
  },
  {
   "cell_type": "code",
   "execution_count": 34,
   "metadata": {
    "scrolled": true
   },
   "outputs": [
    {
     "name": "stdout",
     "output_type": "stream",
     "text": [
      "\n",
      "Checking for mac64 chromedriver:75.0.3770.8 in cache\n",
      "Driver found in /Users/murali/.wdm/chromedriver/75.0.3770.8/mac64/chromedriver\n",
      "Result\n",
      "<class 'str'>\n",
      "\n",
      "Checking for mac64 chromedriver:75.0.3770.8 in cache\n",
      "Driver found in /Users/murali/.wdm/chromedriver/75.0.3770.8/mac64/chromedriver\n",
      "251\n",
      "305\n",
      "           Date                                Venue   Team_1    Team_2  \\\n",
      "0   Nov 20 2015  Dubai International Cricket Stadium  England  Pakistan   \n",
      "1   Nov 20 2015  Dubai International Cricket Stadium  England  Pakistan   \n",
      "2   Nov 20 2015  Dubai International Cricket Stadium  England  Pakistan   \n",
      "3   Nov 20 2015  Dubai International Cricket Stadium  England  Pakistan   \n",
      "4   Nov 20 2015  Dubai International Cricket Stadium  England  Pakistan   \n",
      "\n",
      "  Innings_no Overs Ball_Event  \\\n",
      "0          2  40.4          W   \n",
      "1          2  40.3          0   \n",
      "2          2  40.2          0   \n",
      "3          2  40.1          0   \n",
      "4          2  39.6          0   \n",
      "\n",
      "                                             Comment  \n",
      "0  Ali to Anwar Ali, OUT, tossed up, driven, pluc...  \n",
      "1  Ali to Anwar Ali, no run, tonked out to wide l...  \n",
      "2  Ali to Anwar Ali, no run, tossed onto a good l...  \n",
      "3   Ali to Anwar Ali, no run, punched down the track  \n",
      "4  Woakes to Mohammad Irfan, no run, outside off,...  \n",
      "\n",
      "Checking for mac64 chromedriver:75.0.3770.8 in cache\n",
      "Driver found in /Users/murali/.wdm/chromedriver/75.0.3770.8/mac64/chromedriver\n",
      "Result\n",
      "<class 'str'>\n",
      "\n",
      "Checking for mac64 chromedriver:75.0.3770.8 in cache\n",
      "Driver found in /Users/murali/.wdm/chromedriver/75.0.3770.8/mac64/chromedriver\n"
     ]
    },
    {
     "ename": "NoSuchWindowException",
     "evalue": "Message: no such window: window was already closed\n  (Session info: chrome=75.0.3770.90)\n",
     "output_type": "error",
     "traceback": [
      "\u001b[0;31m---------------------------------------------------------------------------\u001b[0m",
      "\u001b[0;31mNoSuchWindowException\u001b[0m                     Traceback (most recent call last)",
      "\u001b[0;32m<ipython-input-34-a6e1c0be217a>\u001b[0m in \u001b[0;36m<module>\u001b[0;34m\u001b[0m\n\u001b[1;32m     10\u001b[0m \u001b[0mnum_matches_per_page\u001b[0m \u001b[0;34m=\u001b[0m \u001b[0;36m4\u001b[0m\u001b[0;34m\u001b[0m\u001b[0;34m\u001b[0m\u001b[0m\n\u001b[1;32m     11\u001b[0m \u001b[0mdf\u001b[0m \u001b[0;34m=\u001b[0m \u001b[0mpd\u001b[0m\u001b[0;34m.\u001b[0m\u001b[0mDataFrame\u001b[0m\u001b[0;34m(\u001b[0m\u001b[0mcolumns\u001b[0m \u001b[0;34m=\u001b[0m \u001b[0;34m[\u001b[0m\u001b[0;34m'Date'\u001b[0m\u001b[0;34m,\u001b[0m\u001b[0;34m'Venue'\u001b[0m\u001b[0;34m,\u001b[0m\u001b[0;34m'Team_1'\u001b[0m\u001b[0;34m,\u001b[0m\u001b[0;34m'Team_2'\u001b[0m\u001b[0;34m,\u001b[0m\u001b[0;34m'Innings_no'\u001b[0m\u001b[0;34m,\u001b[0m\u001b[0;34m'Overs'\u001b[0m\u001b[0;34m,\u001b[0m\u001b[0;34m'Ball_Event'\u001b[0m\u001b[0;34m,\u001b[0m\u001b[0;34m'Comment'\u001b[0m\u001b[0;34m]\u001b[0m\u001b[0;34m)\u001b[0m\u001b[0;34m\u001b[0m\u001b[0;34m\u001b[0m\u001b[0m\n\u001b[0;32m---> 12\u001b[0;31m \u001b[0mgo_to_commentary\u001b[0m\u001b[0;34m(\u001b[0m\u001b[0mstart_url\u001b[0m\u001b[0;34m,\u001b[0m\u001b[0mnum_matches_per_page\u001b[0m\u001b[0;34m,\u001b[0m\u001b[0mdf\u001b[0m\u001b[0;34m)\u001b[0m\u001b[0;34m\u001b[0m\u001b[0;34m\u001b[0m\u001b[0m\n\u001b[0m",
      "\u001b[0;32m<ipython-input-33-27a24afd4718>\u001b[0m in \u001b[0;36mgo_to_commentary\u001b[0;34m(start_url, num, df)\u001b[0m\n\u001b[1;32m     34\u001b[0m             \u001b[0mcommentary\u001b[0m \u001b[0;34m=\u001b[0m \u001b[0mdriver\u001b[0m\u001b[0;34m.\u001b[0m\u001b[0mfind_element_by_link_text\u001b[0m\u001b[0;34m(\u001b[0m\u001b[0;34m'Commentary'\u001b[0m\u001b[0;34m)\u001b[0m\u001b[0;34m\u001b[0m\u001b[0;34m\u001b[0m\u001b[0m\n\u001b[1;32m     35\u001b[0m             \u001b[0mact\u001b[0m\u001b[0;34m.\u001b[0m\u001b[0mclick\u001b[0m\u001b[0;34m(\u001b[0m\u001b[0mcommentary\u001b[0m\u001b[0;34m)\u001b[0m\u001b[0;34m.\u001b[0m\u001b[0mperform\u001b[0m\u001b[0;34m(\u001b[0m\u001b[0;34m)\u001b[0m        \u001b[0;31m# clicks commentary link\u001b[0m\u001b[0;34m\u001b[0m\u001b[0;34m\u001b[0m\u001b[0m\n\u001b[0;32m---> 36\u001b[0;31m             \u001b[0mscrape_data\u001b[0m\u001b[0;34m(\u001b[0m\u001b[0mdriver\u001b[0m\u001b[0;34m.\u001b[0m\u001b[0mcurrent_url\u001b[0m\u001b[0;34m,\u001b[0m\u001b[0mstadium\u001b[0m\u001b[0;34m,\u001b[0m\u001b[0mdate_text\u001b[0m\u001b[0;34m,\u001b[0m\u001b[0mdf\u001b[0m\u001b[0;34m)\u001b[0m        \u001b[0;31m# function call to scrape_data() for every match\u001b[0m\u001b[0;34m\u001b[0m\u001b[0;34m\u001b[0m\u001b[0m\n\u001b[0m\u001b[1;32m     37\u001b[0m             \u001b[0mdriver\u001b[0m\u001b[0;34m.\u001b[0m\u001b[0mquit\u001b[0m\u001b[0;34m(\u001b[0m\u001b[0;34m)\u001b[0m\u001b[0;34m\u001b[0m\u001b[0;34m\u001b[0m\u001b[0m\n\u001b[1;32m     38\u001b[0m \u001b[0;34m\u001b[0m\u001b[0m\n",
      "\u001b[0;32m<ipython-input-33-27a24afd4718>\u001b[0m in \u001b[0;36mscrape_data\u001b[0;34m(url, stadium, date, df)\u001b[0m\n\u001b[1;32m     58\u001b[0m     \u001b[0melm\u001b[0m \u001b[0;34m=\u001b[0m \u001b[0mdriver2\u001b[0m\u001b[0;34m.\u001b[0m\u001b[0mfind_element_by_tag_name\u001b[0m\u001b[0;34m(\u001b[0m\u001b[0;34m'html'\u001b[0m\u001b[0;34m)\u001b[0m\u001b[0;34m\u001b[0m\u001b[0;34m\u001b[0m\u001b[0m\n\u001b[1;32m     59\u001b[0m     \u001b[0;32mfor\u001b[0m \u001b[0mi\u001b[0m \u001b[0;32min\u001b[0m \u001b[0mrange\u001b[0m\u001b[0;34m(\u001b[0m\u001b[0;36m12\u001b[0m\u001b[0;34m)\u001b[0m\u001b[0;34m:\u001b[0m\u001b[0;34m\u001b[0m\u001b[0;34m\u001b[0m\u001b[0m\n\u001b[0;32m---> 60\u001b[0;31m         \u001b[0melm\u001b[0m\u001b[0;34m.\u001b[0m\u001b[0msend_keys\u001b[0m\u001b[0;34m(\u001b[0m\u001b[0mKeys\u001b[0m\u001b[0;34m.\u001b[0m\u001b[0mEND\u001b[0m\u001b[0;34m)\u001b[0m\u001b[0;34m\u001b[0m\u001b[0;34m\u001b[0m\u001b[0m\n\u001b[0m\u001b[1;32m     61\u001b[0m         \u001b[0mtime\u001b[0m\u001b[0;34m.\u001b[0m\u001b[0msleep\u001b[0m\u001b[0;34m(\u001b[0m\u001b[0;36m3\u001b[0m\u001b[0;34m)\u001b[0m\u001b[0;34m\u001b[0m\u001b[0;34m\u001b[0m\u001b[0m\n\u001b[1;32m     62\u001b[0m \u001b[0;34m\u001b[0m\u001b[0m\n",
      "\u001b[0;32m/Library/Frameworks/Python.framework/Versions/3.7/lib/python3.7/site-packages/selenium/webdriver/remote/webelement.py\u001b[0m in \u001b[0;36msend_keys\u001b[0;34m(self, *value)\u001b[0m\n\u001b[1;32m    477\u001b[0m         self._execute(Command.SEND_KEYS_TO_ELEMENT,\n\u001b[1;32m    478\u001b[0m                       {'text': \"\".join(keys_to_typing(value)),\n\u001b[0;32m--> 479\u001b[0;31m                        'value': keys_to_typing(value)})\n\u001b[0m\u001b[1;32m    480\u001b[0m \u001b[0;34m\u001b[0m\u001b[0m\n\u001b[1;32m    481\u001b[0m     \u001b[0;31m# RenderedWebElement Items\u001b[0m\u001b[0;34m\u001b[0m\u001b[0;34m\u001b[0m\u001b[0;34m\u001b[0m\u001b[0m\n",
      "\u001b[0;32m/Library/Frameworks/Python.framework/Versions/3.7/lib/python3.7/site-packages/selenium/webdriver/remote/webelement.py\u001b[0m in \u001b[0;36m_execute\u001b[0;34m(self, command, params)\u001b[0m\n\u001b[1;32m    631\u001b[0m             \u001b[0mparams\u001b[0m \u001b[0;34m=\u001b[0m \u001b[0;34m{\u001b[0m\u001b[0;34m}\u001b[0m\u001b[0;34m\u001b[0m\u001b[0;34m\u001b[0m\u001b[0m\n\u001b[1;32m    632\u001b[0m         \u001b[0mparams\u001b[0m\u001b[0;34m[\u001b[0m\u001b[0;34m'id'\u001b[0m\u001b[0;34m]\u001b[0m \u001b[0;34m=\u001b[0m \u001b[0mself\u001b[0m\u001b[0;34m.\u001b[0m\u001b[0m_id\u001b[0m\u001b[0;34m\u001b[0m\u001b[0;34m\u001b[0m\u001b[0m\n\u001b[0;32m--> 633\u001b[0;31m         \u001b[0;32mreturn\u001b[0m \u001b[0mself\u001b[0m\u001b[0;34m.\u001b[0m\u001b[0m_parent\u001b[0m\u001b[0;34m.\u001b[0m\u001b[0mexecute\u001b[0m\u001b[0;34m(\u001b[0m\u001b[0mcommand\u001b[0m\u001b[0;34m,\u001b[0m \u001b[0mparams\u001b[0m\u001b[0;34m)\u001b[0m\u001b[0;34m\u001b[0m\u001b[0;34m\u001b[0m\u001b[0m\n\u001b[0m\u001b[1;32m    634\u001b[0m \u001b[0;34m\u001b[0m\u001b[0m\n\u001b[1;32m    635\u001b[0m     \u001b[0;32mdef\u001b[0m \u001b[0mfind_element\u001b[0m\u001b[0;34m(\u001b[0m\u001b[0mself\u001b[0m\u001b[0;34m,\u001b[0m \u001b[0mby\u001b[0m\u001b[0;34m=\u001b[0m\u001b[0mBy\u001b[0m\u001b[0;34m.\u001b[0m\u001b[0mID\u001b[0m\u001b[0;34m,\u001b[0m \u001b[0mvalue\u001b[0m\u001b[0;34m=\u001b[0m\u001b[0;32mNone\u001b[0m\u001b[0;34m)\u001b[0m\u001b[0;34m:\u001b[0m\u001b[0;34m\u001b[0m\u001b[0;34m\u001b[0m\u001b[0m\n",
      "\u001b[0;32m/Library/Frameworks/Python.framework/Versions/3.7/lib/python3.7/site-packages/selenium/webdriver/remote/webdriver.py\u001b[0m in \u001b[0;36mexecute\u001b[0;34m(self, driver_command, params)\u001b[0m\n\u001b[1;32m    319\u001b[0m         \u001b[0mresponse\u001b[0m \u001b[0;34m=\u001b[0m \u001b[0mself\u001b[0m\u001b[0;34m.\u001b[0m\u001b[0mcommand_executor\u001b[0m\u001b[0;34m.\u001b[0m\u001b[0mexecute\u001b[0m\u001b[0;34m(\u001b[0m\u001b[0mdriver_command\u001b[0m\u001b[0;34m,\u001b[0m \u001b[0mparams\u001b[0m\u001b[0;34m)\u001b[0m\u001b[0;34m\u001b[0m\u001b[0;34m\u001b[0m\u001b[0m\n\u001b[1;32m    320\u001b[0m         \u001b[0;32mif\u001b[0m \u001b[0mresponse\u001b[0m\u001b[0;34m:\u001b[0m\u001b[0;34m\u001b[0m\u001b[0;34m\u001b[0m\u001b[0m\n\u001b[0;32m--> 321\u001b[0;31m             \u001b[0mself\u001b[0m\u001b[0;34m.\u001b[0m\u001b[0merror_handler\u001b[0m\u001b[0;34m.\u001b[0m\u001b[0mcheck_response\u001b[0m\u001b[0;34m(\u001b[0m\u001b[0mresponse\u001b[0m\u001b[0;34m)\u001b[0m\u001b[0;34m\u001b[0m\u001b[0;34m\u001b[0m\u001b[0m\n\u001b[0m\u001b[1;32m    322\u001b[0m             response['value'] = self._unwrap_value(\n\u001b[1;32m    323\u001b[0m                 response.get('value', None))\n",
      "\u001b[0;32m/Library/Frameworks/Python.framework/Versions/3.7/lib/python3.7/site-packages/selenium/webdriver/remote/errorhandler.py\u001b[0m in \u001b[0;36mcheck_response\u001b[0;34m(self, response)\u001b[0m\n\u001b[1;32m    240\u001b[0m                 \u001b[0malert_text\u001b[0m \u001b[0;34m=\u001b[0m \u001b[0mvalue\u001b[0m\u001b[0;34m[\u001b[0m\u001b[0;34m'alert'\u001b[0m\u001b[0;34m]\u001b[0m\u001b[0;34m.\u001b[0m\u001b[0mget\u001b[0m\u001b[0;34m(\u001b[0m\u001b[0;34m'text'\u001b[0m\u001b[0;34m)\u001b[0m\u001b[0;34m\u001b[0m\u001b[0;34m\u001b[0m\u001b[0m\n\u001b[1;32m    241\u001b[0m             \u001b[0;32mraise\u001b[0m \u001b[0mexception_class\u001b[0m\u001b[0;34m(\u001b[0m\u001b[0mmessage\u001b[0m\u001b[0;34m,\u001b[0m \u001b[0mscreen\u001b[0m\u001b[0;34m,\u001b[0m \u001b[0mstacktrace\u001b[0m\u001b[0;34m,\u001b[0m \u001b[0malert_text\u001b[0m\u001b[0;34m)\u001b[0m\u001b[0;34m\u001b[0m\u001b[0;34m\u001b[0m\u001b[0m\n\u001b[0;32m--> 242\u001b[0;31m         \u001b[0;32mraise\u001b[0m \u001b[0mexception_class\u001b[0m\u001b[0;34m(\u001b[0m\u001b[0mmessage\u001b[0m\u001b[0;34m,\u001b[0m \u001b[0mscreen\u001b[0m\u001b[0;34m,\u001b[0m \u001b[0mstacktrace\u001b[0m\u001b[0;34m)\u001b[0m\u001b[0;34m\u001b[0m\u001b[0;34m\u001b[0m\u001b[0m\n\u001b[0m\u001b[1;32m    243\u001b[0m \u001b[0;34m\u001b[0m\u001b[0m\n\u001b[1;32m    244\u001b[0m     \u001b[0;32mdef\u001b[0m \u001b[0m_value_or_default\u001b[0m\u001b[0;34m(\u001b[0m\u001b[0mself\u001b[0m\u001b[0;34m,\u001b[0m \u001b[0mobj\u001b[0m\u001b[0;34m,\u001b[0m \u001b[0mkey\u001b[0m\u001b[0;34m,\u001b[0m \u001b[0mdefault\u001b[0m\u001b[0;34m)\u001b[0m\u001b[0;34m:\u001b[0m\u001b[0;34m\u001b[0m\u001b[0;34m\u001b[0m\u001b[0m\n",
      "\u001b[0;31mNoSuchWindowException\u001b[0m: Message: no such window: window was already closed\n  (Session info: chrome=75.0.3770.90)\n"
     ]
    }
   ],
   "source": [
    "import time \n",
    "from selenium import webdriver\n",
    "from selenium.webdriver.common.action_chains import ActionChains\n",
    "from webdriver_manager.chrome import ChromeDriverManager\n",
    "from selenium.webdriver.common.keys import Keys \n",
    "import pandas as pd\n",
    "\n",
    "# Add for loop to change page number \n",
    "start_url = 'http://stats.espncricinfo.com/ci/engine/stats/index.html?class=2;orderby=start;page=154;template=results;type=team;view=results'\n",
    "num_matches_per_page = 4\n",
    "df = pd.DataFrame(columns = ['Date','Venue','Team_1','Team_2','Innings_no','Overs','Ball_Event','Comment'])\n",
    "go_to_commentary(start_url,num_matches_per_page,df)\n"
   ]
  },
  {
   "cell_type": "code",
   "execution_count": 33,
   "metadata": {},
   "outputs": [],
   "source": [
    "\n",
    "# team_abbrev = {'South Africa': 'SA','Australia':'AUS','Pakistan':'PAK','West Indies':'WI','Sri Lanka':'SL',\n",
    "#                 'England':'ENG','Bangladesh':'BDESH','New Zealand':'NZ','Afghanistan':'AFG','India':'INDIA'}\n",
    "\n",
    "def go_to_commentary(start_url,num,df):\n",
    "    '''\n",
    "    function to automate mouse operations that lead from start_url to the commentary for all matches on that webpage\n",
    "    \n",
    "    '''\n",
    "    # Iterating over alternate rows present on that webpage (matches are repeated)\n",
    "    for i in range(1,num,2):\n",
    "        driver = webdriver.Chrome(ChromeDriverManager().install())\n",
    "        act = ActionChains(driver)\n",
    "        driver.get(start_url)\n",
    "        \n",
    "        block = driver.find_element_by_xpath(\"//*[@id='ciHomeContentlhs']/div[3]/table[3]\")\n",
    "        elements = block.find_elements_by_tag_name('img') # finds all images in the specified table\n",
    "        # NOTE: first image is the black up arrow, use from the second element to get all the hidden menu image icons\n",
    "        \n",
    "        act.move_to_element(elements[i]).perform()\n",
    "        scorecard = driver.find_element_by_link_text('Match scorecard')\n",
    "        act.click(scorecard).perform()         # clicks match scorecard link \n",
    "        elt = driver.find_element_by_class_name(\"cscore_link--button\")\n",
    "        status = elt.find_element_by_class_name(\"cscore_time\")\n",
    "        print(status.text)\n",
    "        print(type(status.text))\n",
    "        # Leaving out abandoned matches \n",
    "        if status.text==\"Result\":\n",
    "            stadium = driver.find_element_by_xpath(\"//*[@id='main-container']/div/div[3]/div[1]/div[6]/article/div/div/div[1]/h4/a/span\")\n",
    "            stadium = stadium.text             # getting venue details  \n",
    "            elt = driver.find_element_by_class_name(\"cscore_link--button\")\n",
    "            date = elt.find_element_by_class_name(\"cscore_info-overview\")\n",
    "            date_text = date.text.split(',')[2]  # getting date \n",
    "            commentary = driver.find_element_by_link_text('Commentary')\n",
    "            act.click(commentary).perform()        # clicks commentary link\n",
    "            scrape_data(driver.current_url,stadium,date_text,df)        # function call to scrape_data() for every match \n",
    "            driver.quit()\n",
    "\n",
    "        \n",
    "\n",
    "def scrape_data(url,stadium,date,df):\n",
    "    '''\n",
    "    function to visit the url passed and scrape the commentary for every ball for both the innings\n",
    "\n",
    "    '''    \n",
    "    driver2 = webdriver.Chrome(ChromeDriverManager().install())\n",
    "    driver2.get(url)\n",
    "    # Obtaining team names \n",
    "    teams = driver2.find_elements_by_class_name('cscore_name--long')\n",
    "    team_names = []\n",
    "    for team in teams:\n",
    "        if len(team.text)!=0:\n",
    "            team_names.append(team.text)\n",
    "    time.sleep(2)  \n",
    "\n",
    "    #scrolling till we reach the end of the page\n",
    "    driver2.maximize_window();\n",
    "    elm = driver2.find_element_by_tag_name('html')\n",
    "    for i in range(12):\n",
    "        elm.send_keys(Keys.END)\n",
    "        time.sleep(3)\n",
    "        \n",
    "    # Code to extract ball-by-ball status and commentary (first for innings 2)  \n",
    "    innings = 2 \n",
    "    wrappers = driver2.find_elements_by_class_name('item-wrapper')\n",
    "    print(len(wrappers))\n",
    "    for wrapper in wrappers:\n",
    "        over = wrapper.find_element_by_class_name('time-stamp')\n",
    "        over_value = over.text\n",
    "        ball_score = wrapper.find_element_by_class_name('over-score')\n",
    "        ball_event = ball_score.text\n",
    "        comment = wrapper.find_element_by_class_name('description')\n",
    "        comment_made = comment.text\n",
    "        innings_data = [date,stadium,team_names[0],team_names[1],innings,over_value,ball_event,comment_made]\n",
    "        row = pd.Series(dict(zip(df.columns,innings_data)))\n",
    "        df = df.append(row,ignore_index = True)\n",
    "    \n",
    "    new_url = driver2.current_url + '?innings=1'\n",
    "    driver2.get(new_url)\n",
    "    driver2.maximize_window();\n",
    "    \n",
    "    #scrolling till we reach the end of the page\n",
    "    elm = driver2.find_element_by_tag_name('html')\n",
    "    for i in range(12):\n",
    "        elm.send_keys(Keys.END)\n",
    "        time.sleep(3)\n",
    "        \n",
    "    # Code to extract ball-by-ball status and commentary (now for innings 1)   \n",
    "    innings = 1 \n",
    "    wrappers = driver2.find_elements_by_class_name('item-wrapper')\n",
    "    print(len(wrappers))\n",
    "    for wrapper in wrappers:\n",
    "        over = wrapper.find_element_by_class_name('time-stamp')\n",
    "        over_value = over.text\n",
    "        ball_score = wrapper.find_element_by_class_name('over-score')\n",
    "        ball_event = ball_score.text\n",
    "        comment = wrapper.find_element_by_class_name('description')\n",
    "        comment_made = comment.text\n",
    "        innings_data = [date,stadium,team_names[0],team_names[1],innings,over_value,ball_event,comment_made]\n",
    "        row = pd.Series(dict(zip(df.columns,innings_data)))\n",
    "        df = df.append(row,ignore_index = True)\n",
    "    driver2.quit()\n",
    "    print(df.head())\n",
    "\n"
   ]
  },
  {
   "cell_type": "code",
   "execution_count": 50,
   "metadata": {},
   "outputs": [
    {
     "name": "stdout",
     "output_type": "stream",
     "text": [
      "/Users/murali\n"
     ]
    }
   ],
   "source": [
    "import os\n",
    "print(os.getcwd())"
   ]
  },
  {
   "cell_type": "code",
   "execution_count": 4,
   "metadata": {
    "scrolled": true
   },
   "outputs": [
    {
     "name": "stdout",
     "output_type": "stream",
     "text": [
      "\n",
      "Checking for mac64 chromedriver:75.0.3770.90 in cache\n",
      "Driver found in /Users/murali/.wdm/chromedriver/75.0.3770.90/mac64/chromedriver\n"
     ]
    }
   ],
   "source": [
    "\n",
    "import time\n",
    "from selenium import webdriver \n",
    "from webdriver_manager.chrome import ChromeDriverManager\n",
    "from selenium.webdriver.common.keys import Keys\n",
    "from selenium.webdriver.common.action_chains import ActionChains\n",
    "from selenium.webdriver.chrome.options import Options\n",
    "#start_url = 'http://stats.espncricinfo.com/ci/engine/stats/index.html?class=2;orderby=start;page=154;template=results;type=team;view=results'\n",
    "#chr_opt = webdriver.ChromeOptions()\n",
    "#chr_opt.add_extension(os.getcwd()+'/adblocker.crx')\n",
    "driver = webdriver.Chrome(ChromeDriverManager().install())\n",
    "driver.get(\"https://www.google.com\")\n",
    "time.sleep(5)\n",
    "driver.find_element_by_tag_name('body').send_keys(Keys.COMMAND+\"w\")\n",
    "\n"
   ]
  },
  {
   "cell_type": "code",
   "execution_count": null,
   "metadata": {},
   "outputs": [],
   "source": []
  }
 ],
 "metadata": {
  "kernelspec": {
   "display_name": "Python 3",
   "language": "python",
   "name": "python3"
  },
  "language_info": {
   "codemirror_mode": {
    "name": "ipython",
    "version": 3
   },
   "file_extension": ".py",
   "mimetype": "text/x-python",
   "name": "python",
   "nbconvert_exporter": "python",
   "pygments_lexer": "ipython3",
   "version": "3.7.4"
  }
 },
 "nbformat": 4,
 "nbformat_minor": 2
}
